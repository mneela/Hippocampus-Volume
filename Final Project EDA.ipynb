{
 "cells": [
  {
   "cell_type": "markdown",
   "metadata": {},
   "source": [
    "# Preparing the dataset for hippocampus segmentation\n",
    "\n",
    "In this notebook you will use the skills and methods that we have talked about during our EDA Lesson to prepare the hippocampus dataset using Python. Follow the Notebook, writing snippets of code where directed so using Task comments, similar to the one below, which expects you to put the proper imports in place. Write your code directly in the cell with TASK comment. Feel free to add cells as you see fit, but please make sure that code that performs that tasked activity sits in the same cell as the Task comment.\n"
   ]
  },
  {
   "cell_type": "code",
   "execution_count": 278,
   "metadata": {},
   "outputs": [],
   "source": [
    "# TASK: Import the following libraries that we will use: nibabel, matplotlib, numpy\n",
    "\n",
    "import torch\n",
    "import nibabel as nib\n",
    "import matplotlib.pyplot as plt\n",
    "import numpy as np\n",
    "import pydicom\n",
    "import PIL \n",
    "import os"
   ]
  },
  {
   "cell_type": "code",
   "execution_count": 279,
   "metadata": {},
   "outputs": [],
   "source": [
    "data_dir = 'C:/Mali/Hobby/Udacity/nd320-c3-3d-imaging-starter-master/data/TrainingSet/'"
   ]
  },
  {
   "cell_type": "code",
   "execution_count": 280,
   "metadata": {},
   "outputs": [],
   "source": [
    "image_loc_tuple = [[(f,nib.load(os.path.join(dp,f))) for f in files if ((len(f) > 0) and (\".DS_Store\" not in f))] for dp,_,files in os.walk(data_dir+\"/images/\") if (len(files) > 0) ]"
   ]
  },
  {
   "cell_type": "code",
   "execution_count": 281,
   "metadata": {},
   "outputs": [],
   "source": [
    "label_loc_tuple = [[(f,nib.load(os.path.join(dp,f))) for f in files if ((len(f) > 0) and (\".DS_Store\" not in f))] for dp,_,files in os.walk(data_dir+\"/labels/\") if (len(files) > 0) ]"
   ]
  },
  {
   "cell_type": "code",
   "execution_count": 282,
   "metadata": {},
   "outputs": [],
   "source": [
    "uniq_label, uniq_label_cnts = np.unique([image_loc_tuple[0][i][0] for i in range(len(label_loc_tuple[0]))],return_counts = True)"
   ]
  },
  {
   "cell_type": "code",
   "execution_count": 283,
   "metadata": {},
   "outputs": [],
   "source": [
    "uniq_img, uniq_img_cnts = np.unique([image_loc_tuple[0][i][0] for i in range(len(image_loc_tuple[0]))],return_counts=True)"
   ]
  },
  {
   "cell_type": "code",
   "execution_count": 284,
   "metadata": {},
   "outputs": [
    {
     "data": {
      "text/plain": [
       "263"
      ]
     },
     "execution_count": 284,
     "metadata": {},
     "output_type": "execute_result"
    }
   ],
   "source": [
    "len(uniq_cnts)"
   ]
  },
  {
   "cell_type": "code",
   "execution_count": 285,
   "metadata": {},
   "outputs": [
    {
     "data": {
      "text/plain": [
       "['hippocampus_394.nii.gz']"
      ]
     },
     "execution_count": 285,
     "metadata": {},
     "output_type": "execute_result"
    }
   ],
   "source": [
    "# problem 1, hippocampus_394.nii.gz doesn't have corresponing label \n",
    "# remove this from image_set\n",
    "list(set(uniq_img) - set(uniq_label))"
   ]
  },
  {
   "cell_type": "code",
   "execution_count": 286,
   "metadata": {},
   "outputs": [],
   "source": [
    "image_vol_list = [(image_loc_tuple[0][i][0],image_loc_tuple[0][i][1].header.get_data_shape()[0]*image_loc_tuple[0][i][1].header.get_data_shape()[1]*image_loc_tuple[0][i][1].header.get_data_shape()[2]) for i in range(len(image_loc_tuple[0]))]"
   ]
  },
  {
   "cell_type": "code",
   "execution_count": 287,
   "metadata": {},
   "outputs": [
    {
     "data": {
      "image/png": "[encoded data removed]",
      "text/plain": [
       "<Figure size 432x288 with 1 Axes>"
      ]
     },
     "metadata": {
      "needs_background": "light"
     },
     "output_type": "display_data"
    }
   ],
   "source": [
    "# plot a histogram to identify outliers\n",
    "x_list = [ image_vol_list[i][0] for i in range(len(image_vol_list))]\n",
    "y_list = [ image_vol_list[i][1] for i in range(len(image_vol_list))]\n",
    "indices = np.arange(len(image_vol_list))\n",
    "plt.bar(x_list, y_list, color='r')\n",
    "\n",
    "plt.tight_layout()\n",
    "plt.show()"
   ]
  },
  {
   "cell_type": "markdown",
   "metadata": {},
   "source": [
    "## Clearly there are two categories and they can be easily be separated by their means as two categories."
   ]
  },
  {
   "cell_type": "code",
   "execution_count": 288,
   "metadata": {},
   "outputs": [
    {
     "data": {
      "text/plain": [
       "[('hippocampus_010.nii.gz', 63176704), ('hippocampus_281.nii.gz', 8126464)]"
      ]
     },
     "execution_count": 288,
     "metadata": {},
     "output_type": "execute_result"
    }
   ],
   "source": [
    "[ image_vol_list[i] for i in range(len(image_vol_list)) if image_vol_list[i][1] > np.mean(y_list) ]"
   ]
  },
  {
   "cell_type": "markdown",
   "metadata": {},
   "source": [
    "## there are three files which are outliers which need to be removed\n",
    "-  hippocampus_394.nii.gz no label exists\n",
    "-  hippocampus_010.nii.gz volume is very big outlier\n",
    "-  hippocampus_281.nii.gz volume is very big outlier"
   ]
  },
  {
   "cell_type": "code",
   "execution_count": 289,
   "metadata": {},
   "outputs": [],
   "source": [
    "index_to_remove = [i for i  in range(len(image_vol_list)) if (('hippocampus_394.nii.gz' in image_vol_list[i][0]) or \n",
    "                                                              ('hippocampus_010.nii.gz' in image_vol_list[i][0]) or\n",
    "                                                              ('hippocampus_281.nii.gz' in image_vol_list[i][0]))]"
   ]
  },
  {
   "cell_type": "code",
   "execution_count": 290,
   "metadata": {},
   "outputs": [
    {
     "data": {
      "text/plain": [
       "[6, 180, 262]"
      ]
     },
     "execution_count": 290,
     "metadata": {},
     "output_type": "execute_result"
    }
   ],
   "source": [
    "index_to_remove"
   ]
  },
  {
   "cell_type": "code",
   "execution_count": 291,
   "metadata": {},
   "outputs": [
    {
     "data": {
      "text/plain": [
       "('hippocampus_282.nii.gz', <nibabel.nifti1.Nifti1Image at 0x1e59781ce88>)"
      ]
     },
     "execution_count": 291,
     "metadata": {},
     "output_type": "execute_result"
    }
   ],
   "source": [
    "label_loc_tuple[0][180]"
   ]
  },
  {
   "cell_type": "code",
   "execution_count": 292,
   "metadata": {},
   "outputs": [
    {
     "data": {
      "text/plain": [
       "('hippocampus_010.nii.gz', <nibabel.nifti1.Nifti1Image at 0x1e597387d48>)"
      ]
     },
     "execution_count": 292,
     "metadata": {},
     "output_type": "execute_result"
    }
   ],
   "source": [
    "# Clean the lable & image list remove 6 and 180\n",
    "# do the pop in reverse order as the index is change immediately after the operation\n",
    "label_loc_tuple[0].pop(180)\n",
    "label_loc_tuple[0].pop(6)\n",
    "image_loc_tuple[0].pop(262)\n",
    "image_loc_tuple[0].pop(180)\n",
    "image_loc_tuple[0].pop(6)"
   ]
  },
  {
   "cell_type": "code",
   "execution_count": 293,
   "metadata": {},
   "outputs": [
    {
     "name": "stdout",
     "output_type": "stream",
     "text": [
      "260 260\n"
     ]
    }
   ],
   "source": [
    "print(len(label_loc_tuple[0]),len(image_loc_tuple[0]))"
   ]
  },
  {
   "cell_type": "markdown",
   "metadata": {},
   "source": [
    "It will help your understanding of the data a lot if you were able to use a tool that allows you to view NIFTI volumes, like [3D Slicer](https://www.slicer.org/). I will refer to Slicer throughout this Notebook and will be pasting some images showing what your output might look like."
   ]
  },
  {
   "cell_type": "code",
   "execution_count": 296,
   "metadata": {},
   "outputs": [],
   "source": [
    "# copy from data/TrainingSet/images -> out/images and out/labels "
   ]
  },
  {
   "cell_type": "code",
   "execution_count": 305,
   "metadata": {},
   "outputs": [
    {
     "name": "stdout",
     "output_type": "stream",
     "text": [
      "hippocampus_001.nii.gz\n",
      "hippocampus_003.nii.gz\n",
      "hippocampus_004.nii.gz\n",
      "hippocampus_006.nii.gz\n",
      "hippocampus_007.nii.gz\n",
      "hippocampus_008.nii.gz\n",
      "hippocampus_011.nii.gz\n",
      "hippocampus_014.nii.gz\n",
      "hippocampus_015.nii.gz\n",
      "hippocampus_017.nii.gz\n",
      "hippocampus_019.nii.gz\n",
      "hippocampus_020.nii.gz\n",
      "hippocampus_023.nii.gz\n",
      "hippocampus_024.nii.gz\n",
      "hippocampus_025.nii.gz\n",
      "hippocampus_026.nii.gz\n",
      "hippocampus_033.nii.gz\n",
      "hippocampus_034.nii.gz\n",
      "hippocampus_035.nii.gz\n",
      "hippocampus_036.nii.gz\n",
      "hippocampus_037.nii.gz\n",
      "hippocampus_038.nii.gz\n",
      "hippocampus_039.nii.gz\n",
      "hippocampus_040.nii.gz\n",
      "hippocampus_041.nii.gz\n",
      "hippocampus_042.nii.gz\n",
      "hippocampus_044.nii.gz\n",
      "hippocampus_045.nii.gz\n",
      "hippocampus_046.nii.gz\n",
      "hippocampus_048.nii.gz\n",
      "hippocampus_049.nii.gz\n",
      "hippocampus_050.nii.gz\n",
      "hippocampus_051.nii.gz\n",
      "hippocampus_052.nii.gz\n",
      "hippocampus_053.nii.gz\n",
      "hippocampus_056.nii.gz\n",
      "hippocampus_057.nii.gz\n",
      "hippocampus_058.nii.gz\n",
      "hippocampus_060.nii.gz\n",
      "hippocampus_064.nii.gz\n",
      "hippocampus_065.nii.gz\n",
      "hippocampus_067.nii.gz\n",
      "hippocampus_068.nii.gz\n",
      "hippocampus_070.nii.gz\n",
      "hippocampus_074.nii.gz\n",
      "hippocampus_075.nii.gz\n",
      "hippocampus_077.nii.gz\n",
      "hippocampus_083.nii.gz\n",
      "hippocampus_084.nii.gz\n",
      "hippocampus_087.nii.gz\n",
      "hippocampus_088.nii.gz\n",
      "hippocampus_089.nii.gz\n",
      "hippocampus_090.nii.gz\n",
      "hippocampus_091.nii.gz\n",
      "hippocampus_092.nii.gz\n",
      "hippocampus_093.nii.gz\n",
      "hippocampus_094.nii.gz\n",
      "hippocampus_095.nii.gz\n",
      "hippocampus_096.nii.gz\n",
      "hippocampus_097.nii.gz\n",
      "hippocampus_098.nii.gz\n",
      "hippocampus_099.nii.gz\n",
      "hippocampus_101.nii.gz\n",
      "hippocampus_102.nii.gz\n",
      "hippocampus_104.nii.gz\n",
      "hippocampus_105.nii.gz\n",
      "hippocampus_106.nii.gz\n",
      "hippocampus_107.nii.gz\n",
      "hippocampus_108.nii.gz\n",
      "hippocampus_109.nii.gz\n",
      "hippocampus_114.nii.gz\n",
      "hippocampus_118.nii.gz\n",
      "hippocampus_123.nii.gz\n",
      "hippocampus_124.nii.gz\n",
      "hippocampus_125.nii.gz\n",
      "hippocampus_126.nii.gz\n",
      "hippocampus_127.nii.gz\n",
      "hippocampus_130.nii.gz\n",
      "hippocampus_132.nii.gz\n",
      "hippocampus_133.nii.gz\n",
      "hippocampus_135.nii.gz\n",
      "hippocampus_136.nii.gz\n",
      "hippocampus_138.nii.gz\n",
      "hippocampus_141.nii.gz\n",
      "hippocampus_142.nii.gz\n",
      "hippocampus_143.nii.gz\n",
      "hippocampus_144.nii.gz\n",
      "hippocampus_145.nii.gz\n",
      "hippocampus_146.nii.gz\n",
      "hippocampus_148.nii.gz\n",
      "hippocampus_149.nii.gz\n",
      "hippocampus_150.nii.gz\n",
      "hippocampus_152.nii.gz\n",
      "hippocampus_154.nii.gz\n",
      "hippocampus_155.nii.gz\n",
      "hippocampus_156.nii.gz\n",
      "hippocampus_157.nii.gz\n",
      "hippocampus_158.nii.gz\n",
      "hippocampus_160.nii.gz\n",
      "hippocampus_161.nii.gz\n",
      "hippocampus_162.nii.gz\n",
      "hippocampus_163.nii.gz\n",
      "hippocampus_164.nii.gz\n",
      "hippocampus_165.nii.gz\n",
      "hippocampus_166.nii.gz\n",
      "hippocampus_169.nii.gz\n",
      "hippocampus_170.nii.gz\n",
      "hippocampus_171.nii.gz\n",
      "hippocampus_172.nii.gz\n",
      "hippocampus_173.nii.gz\n",
      "hippocampus_174.nii.gz\n",
      "hippocampus_175.nii.gz\n",
      "hippocampus_176.nii.gz\n",
      "hippocampus_177.nii.gz\n",
      "hippocampus_178.nii.gz\n",
      "hippocampus_180.nii.gz\n",
      "hippocampus_181.nii.gz\n",
      "hippocampus_184.nii.gz\n",
      "hippocampus_185.nii.gz\n",
      "hippocampus_188.nii.gz\n",
      "hippocampus_189.nii.gz\n",
      "hippocampus_190.nii.gz\n",
      "hippocampus_193.nii.gz\n",
      "hippocampus_194.nii.gz\n",
      "hippocampus_195.nii.gz\n",
      "hippocampus_197.nii.gz\n",
      "hippocampus_199.nii.gz\n",
      "hippocampus_203.nii.gz\n",
      "hippocampus_204.nii.gz\n",
      "hippocampus_205.nii.gz\n",
      "hippocampus_207.nii.gz\n",
      "hippocampus_210.nii.gz\n",
      "hippocampus_212.nii.gz\n",
      "hippocampus_215.nii.gz\n",
      "hippocampus_216.nii.gz\n",
      "hippocampus_217.nii.gz\n",
      "hippocampus_219.nii.gz\n",
      "hippocampus_220.nii.gz\n",
      "hippocampus_221.nii.gz\n",
      "hippocampus_222.nii.gz\n",
      "hippocampus_223.nii.gz\n",
      "hippocampus_224.nii.gz\n",
      "hippocampus_225.nii.gz\n",
      "hippocampus_226.nii.gz\n",
      "hippocampus_227.nii.gz\n",
      "hippocampus_228.nii.gz\n",
      "hippocampus_229.nii.gz\n",
      "hippocampus_230.nii.gz\n",
      "hippocampus_231.nii.gz\n",
      "hippocampus_232.nii.gz\n",
      "hippocampus_233.nii.gz\n",
      "hippocampus_234.nii.gz\n",
      "hippocampus_235.nii.gz\n",
      "hippocampus_236.nii.gz\n",
      "hippocampus_238.nii.gz\n",
      "hippocampus_242.nii.gz\n",
      "hippocampus_243.nii.gz\n",
      "hippocampus_244.nii.gz\n",
      "hippocampus_245.nii.gz\n",
      "hippocampus_248.nii.gz\n",
      "hippocampus_249.nii.gz\n",
      "hippocampus_250.nii.gz\n",
      "hippocampus_251.nii.gz\n",
      "hippocampus_252.nii.gz\n",
      "hippocampus_253.nii.gz\n",
      "hippocampus_257.nii.gz\n",
      "hippocampus_259.nii.gz\n",
      "hippocampus_260.nii.gz\n",
      "hippocampus_261.nii.gz\n",
      "hippocampus_263.nii.gz\n",
      "hippocampus_264.nii.gz\n",
      "hippocampus_265.nii.gz\n",
      "hippocampus_268.nii.gz\n",
      "hippocampus_269.nii.gz\n",
      "hippocampus_274.nii.gz\n",
      "hippocampus_276.nii.gz\n",
      "hippocampus_277.nii.gz\n",
      "hippocampus_279.nii.gz\n",
      "hippocampus_280.nii.gz\n",
      "hippocampus_282.nii.gz\n",
      "hippocampus_286.nii.gz\n",
      "hippocampus_287.nii.gz\n",
      "hippocampus_288.nii.gz\n",
      "hippocampus_289.nii.gz\n",
      "hippocampus_290.nii.gz\n",
      "hippocampus_292.nii.gz\n",
      "hippocampus_294.nii.gz\n",
      "hippocampus_295.nii.gz\n",
      "hippocampus_296.nii.gz\n",
      "hippocampus_297.nii.gz\n",
      "hippocampus_298.nii.gz\n",
      "hippocampus_299.nii.gz\n",
      "hippocampus_300.nii.gz\n",
      "hippocampus_301.nii.gz\n",
      "hippocampus_302.nii.gz\n",
      "hippocampus_303.nii.gz\n",
      "hippocampus_304.nii.gz\n",
      "hippocampus_305.nii.gz\n",
      "hippocampus_308.nii.gz\n",
      "hippocampus_309.nii.gz\n",
      "hippocampus_310.nii.gz\n",
      "hippocampus_311.nii.gz\n",
      "hippocampus_314.nii.gz\n",
      "hippocampus_316.nii.gz\n",
      "hippocampus_317.nii.gz\n",
      "hippocampus_318.nii.gz\n",
      "hippocampus_319.nii.gz\n",
      "hippocampus_320.nii.gz\n",
      "hippocampus_321.nii.gz\n",
      "hippocampus_322.nii.gz\n",
      "hippocampus_325.nii.gz\n",
      "hippocampus_326.nii.gz\n",
      "hippocampus_327.nii.gz\n",
      "hippocampus_328.nii.gz\n",
      "hippocampus_329.nii.gz\n",
      "hippocampus_330.nii.gz\n",
      "hippocampus_331.nii.gz\n",
      "hippocampus_332.nii.gz\n",
      "hippocampus_333.nii.gz\n",
      "hippocampus_334.nii.gz\n",
      "hippocampus_335.nii.gz\n",
      "hippocampus_336.nii.gz\n",
      "hippocampus_337.nii.gz\n",
      "hippocampus_338.nii.gz\n",
      "hippocampus_340.nii.gz\n",
      "hippocampus_341.nii.gz\n",
      "hippocampus_343.nii.gz\n",
      "hippocampus_345.nii.gz\n",
      "hippocampus_349.nii.gz\n",
      "hippocampus_350.nii.gz\n",
      "hippocampus_351.nii.gz\n",
      "hippocampus_352.nii.gz\n",
      "hippocampus_353.nii.gz\n",
      "hippocampus_354.nii.gz\n",
      "hippocampus_355.nii.gz\n",
      "hippocampus_356.nii.gz\n",
      "hippocampus_358.nii.gz\n",
      "hippocampus_359.nii.gz\n",
      "hippocampus_360.nii.gz\n",
      "hippocampus_361.nii.gz\n",
      "hippocampus_363.nii.gz\n",
      "hippocampus_366.nii.gz\n",
      "hippocampus_367.nii.gz\n",
      "hippocampus_368.nii.gz\n",
      "hippocampus_370.nii.gz\n",
      "hippocampus_372.nii.gz\n",
      "hippocampus_373.nii.gz\n",
      "hippocampus_374.nii.gz\n",
      "hippocampus_375.nii.gz\n",
      "hippocampus_376.nii.gz\n",
      "hippocampus_378.nii.gz\n",
      "hippocampus_380.nii.gz\n",
      "hippocampus_381.nii.gz\n",
      "hippocampus_383.nii.gz\n",
      "hippocampus_385.nii.gz\n",
      "hippocampus_386.nii.gz\n",
      "hippocampus_387.nii.gz\n",
      "hippocampus_389.nii.gz\n",
      "hippocampus_390.nii.gz\n",
      "hippocampus_393.nii.gz\n"
     ]
    }
   ],
   "source": [
    "for i in range(len(image_loc_tuple[0])):\n",
    "    print(image_loc_tuple[0][i][0])"
   ]
  },
  {
   "cell_type": "code",
   "execution_count": 314,
   "metadata": {},
   "outputs": [],
   "source": [
    "from shutil import copyfile\n",
    "def cpfile_to_new_loc(olddir,newdir,filename):\n",
    "    if not os.path.exists(newdir):\n",
    "        os.makedirs(newdir)\n",
    "    copyfile(olddir+\"/\"+filename, newdir + \"/\" + filename)"
   ]
  },
  {
   "cell_type": "markdown",
   "metadata": {},
   "source": [
    "## Loading NIFTI images using NiBabel\n",
    "\n",
    "NiBabel is a python library for working with neuro-imaging formats (including NIFTI) that we have used in some of the exercises throughout the course. Our volumes and labels are in NIFTI format, so we will use nibabel to load and inspect them.\n",
    "\n",
    "NiBabel documentation could be found here: https://nipy.org/nibabel/\n",
    "\n",
    "Our dataset sits in two directories - *images* and *labels*. Each image is represented by a single file (we are fortunate to have our data converted to NIFTI) and has a corresponding label file which is named the same as the image file.\n",
    "\n",
    "Note that our dataset is \"dirty\". There are a few images and labels that are not quite right. They should be quite obvious to notice, though. The dataset contains an equal amount of \"correct\" volumes and corresponding labels, and you don't need to alter values of any samples in order to get the clean dataset."
   ]
  },
  {
   "cell_type": "code",
   "execution_count": 317,
   "metadata": {},
   "outputs": [],
   "source": [
    "# TASK: Your data sits in directory /data/TrainingSet.\n",
    "# Load an image and a segmentation mask into variables called image and label\n",
    "\n",
    "train_an_instance = 'C:/Mali/Hobby/Udacity/nd320-c3-3d-imaging-starter-master/data/TrainingSet/images/hippocampus_006.nii.gz'\n",
    "label_an_instance = 'C:/Mali/Hobby/Udacity/nd320-c3-3d-imaging-starter-master/data/TrainingSet/labels/hippocampus_006.nii.gz'\n",
    "\n",
    "image = nib.load(train_an_instance).get_fdata()\n",
    "label = nib.load(label_an_instance).get_fdata()"
   ]
  },
  {
   "cell_type": "code",
   "execution_count": 321,
   "metadata": {},
   "outputs": [
    {
     "data": {
      "text/plain": [
       "(35, 52, 34)"
      ]
     },
     "execution_count": 321,
     "metadata": {},
     "output_type": "execute_result"
    }
   ],
   "source": [
    "label.shape"
   ]
  },
  {
   "cell_type": "code",
   "execution_count": 325,
   "metadata": {},
   "outputs": [
    {
     "data": {
      "text/plain": [
       "<matplotlib.image.AxesImage at 0x1e59795ff88>"
      ]
     },
     "execution_count": 325,
     "metadata": {},
     "output_type": "execute_result"
    },
    {
     "data": {
      "image/png": "[encoded data removed]",
      "text/plain": [
       "<Figure size 360x360 with 1 Axes>"
      ]
     },
     "metadata": {
      "needs_background": "light"
     },
     "output_type": "display_data"
    }
   ],
   "source": [
    "# Nibabel can present your image data as a Numpy array by calling the method get_fdata()\n",
    "# The array will contain a multi-dimensional Numpy array with numerical values representing voxel intensities. \n",
    "# In our case, images and labels are 3-dimensional, so get_fdata will return a 3-dimensional array. You can verify this\n",
    "# by accessing the .shape attribute. What are the dimensions of the input arrays?\n",
    "\n",
    "# TASK: using matplotlib, visualize a few slices from the dataset, along with their labels. \n",
    "# You can adjust plot sizes like so if you find them too small:\n",
    "# plt.rcParams[\"figure.figsize\"] = (10,10)\n",
    "plt.rcParams[\"figure.figsize\"] = (5,5)\n",
    "plt.imshow(image[:,:,6] , cmap='gray')"
   ]
  },
  {
   "cell_type": "code",
   "execution_count": 326,
   "metadata": {},
   "outputs": [
    {
     "data": {
      "text/plain": [
       "<matplotlib.image.AxesImage at 0x1e59780a148>"
      ]
     },
     "execution_count": 326,
     "metadata": {},
     "output_type": "execute_result"
    },
    {
     "data": {
      "image/png": "[encoded data removed]",
      "text/plain": [
       "<Figure size 360x360 with 1 Axes>"
      ]
     },
     "metadata": {
      "needs_background": "light"
     },
     "output_type": "display_data"
    }
   ],
   "source": [
    "plt.imshow(label[:,:,6] , cmap='gray')"
   ]
  },
  {
   "cell_type": "code",
   "execution_count": 340,
   "metadata": {},
   "outputs": [
    {
     "data": {
      "text/plain": [
       "<matplotlib.image.AxesImage at 0x1e596e670c8>"
      ]
     },
     "execution_count": 340,
     "metadata": {},
     "output_type": "execute_result"
    },
    {
     "data": {
      "image/png": "[encoded data removed]",
      "text/plain": [
       "<Figure size 360x360 with 1 Axes>"
      ]
     },
     "metadata": {
      "needs_background": "light"
     },
     "output_type": "display_data"
    }
   ],
   "source": [
    "plt.imshow(image[:,:,6] + label[:,:,6] , cmap='gray')"
   ]
  },
  {
   "cell_type": "markdown",
   "metadata": {},
   "source": [
    "* Show the combined lable and mask"
   ]
  },
  {
   "cell_type": "code",
   "execution_count": null,
   "metadata": {},
   "outputs": [],
   "source": []
  },
  {
   "cell_type": "markdown",
   "metadata": {},
   "source": [
    "Load volume into 3D Slicer to validate that your visualization is correct and get a feel for the shape of structures.Try to get a visualization like the one below (hint: while Slicer documentation is not particularly great, there are plenty of YouTube videos available! Just look it up on YouTube if you are not sure how to do something)\n",
    "\n",
    "![3D slicer](img/Slicer.png)"
   ]
  },
  {
   "cell_type": "code",
   "execution_count": null,
   "metadata": {},
   "outputs": [],
   "source": [
    "# Stand out suggestion: use one of the simple Volume Rendering algorithms that we've\n",
    "# implemented in one of our earlier lessons to visualize some of these volumes"
   ]
  },
  {
   "cell_type": "markdown",
   "metadata": {},
   "source": [
    "## Looking at single image data\n",
    "In this section we will look closer at the NIFTI representation of our volumes. In order to measure the physical volume of hippocampi, we need to understand the relationship between the sizes of our voxels and the physical world."
   ]
  },
  {
   "cell_type": "code",
   "execution_count": 352,
   "metadata": {},
   "outputs": [
    {
     "data": {
      "text/plain": [
       "<bound method Nifti1Header.from_header of <class 'nibabel.nifti1.Nifti1Header'>>"
      ]
     },
     "execution_count": 352,
     "metadata": {},
     "output_type": "execute_result"
    }
   ],
   "source": [
    "image_loc_tuple[0][1][1].header_class.from_header"
   ]
  },
  {
   "cell_type": "code",
   "execution_count": 353,
   "metadata": {
    "scrolled": true
   },
   "outputs": [
    {
     "name": "stdout",
     "output_type": "stream",
     "text": [
      "<bound method Nifti1Header.from_header of <class 'nibabel.nifti1.Nifti1Header'>>\n",
      "<bound method Nifti1Header.from_header of <class 'nibabel.nifti1.Nifti1Header'>>\n",
      "<bound method Nifti1Header.from_header of <class 'nibabel.nifti1.Nifti1Header'>>\n",
      "<bound method Nifti1Header.from_header of <class 'nibabel.nifti1.Nifti1Header'>>\n",
      "<bound method Nifti1Header.from_header of <class 'nibabel.nifti1.Nifti1Header'>>\n",
      "<bound method Nifti1Header.from_header of <class 'nibabel.nifti1.Nifti1Header'>>\n",
      "<bound method Nifti1Header.from_header of <class 'nibabel.nifti1.Nifti1Header'>>\n",
      "<bound method Nifti1Header.from_header of <class 'nibabel.nifti1.Nifti1Header'>>\n",
      "<bound method Nifti1Header.from_header of <class 'nibabel.nifti1.Nifti1Header'>>\n",
      "<bound method Nifti1Header.from_header of <class 'nibabel.nifti1.Nifti1Header'>>\n",
      "<bound method Nifti1Header.from_header of <class 'nibabel.nifti1.Nifti1Header'>>\n",
      "<bound method Nifti1Header.from_header of <class 'nibabel.nifti1.Nifti1Header'>>\n",
      "<bound method Nifti1Header.from_header of <class 'nibabel.nifti1.Nifti1Header'>>\n",
      "<bound method Nifti1Header.from_header of <class 'nibabel.nifti1.Nifti1Header'>>\n",
      "<bound method Nifti1Header.from_header of <class 'nibabel.nifti1.Nifti1Header'>>\n",
      "<bound method Nifti1Header.from_header of <class 'nibabel.nifti1.Nifti1Header'>>\n",
      "<bound method Nifti1Header.from_header of <class 'nibabel.nifti1.Nifti1Header'>>\n",
      "<bound method Nifti1Header.from_header of <class 'nibabel.nifti1.Nifti1Header'>>\n",
      "<bound method Nifti1Header.from_header of <class 'nibabel.nifti1.Nifti1Header'>>\n",
      "<bound method Nifti1Header.from_header of <class 'nibabel.nifti1.Nifti1Header'>>\n",
      "<bound method Nifti1Header.from_header of <class 'nibabel.nifti1.Nifti1Header'>>\n",
      "<bound method Nifti1Header.from_header of <class 'nibabel.nifti1.Nifti1Header'>>\n",
      "<bound method Nifti1Header.from_header of <class 'nibabel.nifti1.Nifti1Header'>>\n",
      "<bound method Nifti1Header.from_header of <class 'nibabel.nifti1.Nifti1Header'>>\n",
      "<bound method Nifti1Header.from_header of <class 'nibabel.nifti1.Nifti1Header'>>\n",
      "<bound method Nifti1Header.from_header of <class 'nibabel.nifti1.Nifti1Header'>>\n",
      "<bound method Nifti1Header.from_header of <class 'nibabel.nifti1.Nifti1Header'>>\n",
      "<bound method Nifti1Header.from_header of <class 'nibabel.nifti1.Nifti1Header'>>\n",
      "<bound method Nifti1Header.from_header of <class 'nibabel.nifti1.Nifti1Header'>>\n",
      "<bound method Nifti1Header.from_header of <class 'nibabel.nifti1.Nifti1Header'>>\n",
      "<bound method Nifti1Header.from_header of <class 'nibabel.nifti1.Nifti1Header'>>\n",
      "<bound method Nifti1Header.from_header of <class 'nibabel.nifti1.Nifti1Header'>>\n",
      "<bound method Nifti1Header.from_header of <class 'nibabel.nifti1.Nifti1Header'>>\n",
      "<bound method Nifti1Header.from_header of <class 'nibabel.nifti1.Nifti1Header'>>\n",
      "<bound method Nifti1Header.from_header of <class 'nibabel.nifti1.Nifti1Header'>>\n",
      "<bound method Nifti1Header.from_header of <class 'nibabel.nifti1.Nifti1Header'>>\n",
      "<bound method Nifti1Header.from_header of <class 'nibabel.nifti1.Nifti1Header'>>\n",
      "<bound method Nifti1Header.from_header of <class 'nibabel.nifti1.Nifti1Header'>>\n",
      "<bound method Nifti1Header.from_header of <class 'nibabel.nifti1.Nifti1Header'>>\n",
      "<bound method Nifti1Header.from_header of <class 'nibabel.nifti1.Nifti1Header'>>\n",
      "<bound method Nifti1Header.from_header of <class 'nibabel.nifti1.Nifti1Header'>>\n",
      "<bound method Nifti1Header.from_header of <class 'nibabel.nifti1.Nifti1Header'>>\n",
      "<bound method Nifti1Header.from_header of <class 'nibabel.nifti1.Nifti1Header'>>\n",
      "<bound method Nifti1Header.from_header of <class 'nibabel.nifti1.Nifti1Header'>>\n",
      "<bound method Nifti1Header.from_header of <class 'nibabel.nifti1.Nifti1Header'>>\n",
      "<bound method Nifti1Header.from_header of <class 'nibabel.nifti1.Nifti1Header'>>\n",
      "<bound method Nifti1Header.from_header of <class 'nibabel.nifti1.Nifti1Header'>>\n",
      "<bound method Nifti1Header.from_header of <class 'nibabel.nifti1.Nifti1Header'>>\n",
      "<bound method Nifti1Header.from_header of <class 'nibabel.nifti1.Nifti1Header'>>\n",
      "<bound method Nifti1Header.from_header of <class 'nibabel.nifti1.Nifti1Header'>>\n",
      "<bound method Nifti1Header.from_header of <class 'nibabel.nifti1.Nifti1Header'>>\n",
      "<bound method Nifti1Header.from_header of <class 'nibabel.nifti1.Nifti1Header'>>\n",
      "<bound method Nifti1Header.from_header of <class 'nibabel.nifti1.Nifti1Header'>>\n",
      "<bound method Nifti1Header.from_header of <class 'nibabel.nifti1.Nifti1Header'>>\n",
      "<bound method Nifti1Header.from_header of <class 'nibabel.nifti1.Nifti1Header'>>\n",
      "<bound method Nifti1Header.from_header of <class 'nibabel.nifti1.Nifti1Header'>>\n",
      "<bound method Nifti1Header.from_header of <class 'nibabel.nifti1.Nifti1Header'>>\n",
      "<bound method Nifti1Header.from_header of <class 'nibabel.nifti1.Nifti1Header'>>\n",
      "<bound method Nifti1Header.from_header of <class 'nibabel.nifti1.Nifti1Header'>>\n",
      "<bound method Nifti1Header.from_header of <class 'nibabel.nifti1.Nifti1Header'>>\n",
      "<bound method Nifti1Header.from_header of <class 'nibabel.nifti1.Nifti1Header'>>\n",
      "<bound method Nifti1Header.from_header of <class 'nibabel.nifti1.Nifti1Header'>>\n",
      "<bound method Nifti1Header.from_header of <class 'nibabel.nifti1.Nifti1Header'>>\n",
      "<bound method Nifti1Header.from_header of <class 'nibabel.nifti1.Nifti1Header'>>\n",
      "<bound method Nifti1Header.from_header of <class 'nibabel.nifti1.Nifti1Header'>>\n",
      "<bound method Nifti1Header.from_header of <class 'nibabel.nifti1.Nifti1Header'>>\n",
      "<bound method Nifti1Header.from_header of <class 'nibabel.nifti1.Nifti1Header'>>\n",
      "<bound method Nifti1Header.from_header of <class 'nibabel.nifti1.Nifti1Header'>>\n",
      "<bound method Nifti1Header.from_header of <class 'nibabel.nifti1.Nifti1Header'>>\n",
      "<bound method Nifti1Header.from_header of <class 'nibabel.nifti1.Nifti1Header'>>\n",
      "<bound method Nifti1Header.from_header of <class 'nibabel.nifti1.Nifti1Header'>>\n",
      "<bound method Nifti1Header.from_header of <class 'nibabel.nifti1.Nifti1Header'>>\n",
      "<bound method Nifti1Header.from_header of <class 'nibabel.nifti1.Nifti1Header'>>\n",
      "<bound method Nifti1Header.from_header of <class 'nibabel.nifti1.Nifti1Header'>>\n",
      "<bound method Nifti1Header.from_header of <class 'nibabel.nifti1.Nifti1Header'>>\n",
      "<bound method Nifti1Header.from_header of <class 'nibabel.nifti1.Nifti1Header'>>\n",
      "<bound method Nifti1Header.from_header of <class 'nibabel.nifti1.Nifti1Header'>>\n",
      "<bound method Nifti1Header.from_header of <class 'nibabel.nifti1.Nifti1Header'>>\n",
      "<bound method Nifti1Header.from_header of <class 'nibabel.nifti1.Nifti1Header'>>\n",
      "<bound method Nifti1Header.from_header of <class 'nibabel.nifti1.Nifti1Header'>>\n",
      "<bound method Nifti1Header.from_header of <class 'nibabel.nifti1.Nifti1Header'>>\n",
      "<bound method Nifti1Header.from_header of <class 'nibabel.nifti1.Nifti1Header'>>\n",
      "<bound method Nifti1Header.from_header of <class 'nibabel.nifti1.Nifti1Header'>>\n",
      "<bound method Nifti1Header.from_header of <class 'nibabel.nifti1.Nifti1Header'>>\n",
      "<bound method Nifti1Header.from_header of <class 'nibabel.nifti1.Nifti1Header'>>\n",
      "<bound method Nifti1Header.from_header of <class 'nibabel.nifti1.Nifti1Header'>>\n",
      "<bound method Nifti1Header.from_header of <class 'nibabel.nifti1.Nifti1Header'>>\n",
      "<bound method Nifti1Header.from_header of <class 'nibabel.nifti1.Nifti1Header'>>\n",
      "<bound method Nifti1Header.from_header of <class 'nibabel.nifti1.Nifti1Header'>>\n",
      "<bound method Nifti1Header.from_header of <class 'nibabel.nifti1.Nifti1Header'>>\n",
      "<bound method Nifti1Header.from_header of <class 'nibabel.nifti1.Nifti1Header'>>\n",
      "<bound method Nifti1Header.from_header of <class 'nibabel.nifti1.Nifti1Header'>>\n",
      "<bound method Nifti1Header.from_header of <class 'nibabel.nifti1.Nifti1Header'>>\n",
      "<bound method Nifti1Header.from_header of <class 'nibabel.nifti1.Nifti1Header'>>\n",
      "<bound method Nifti1Header.from_header of <class 'nibabel.nifti1.Nifti1Header'>>\n",
      "<bound method Nifti1Header.from_header of <class 'nibabel.nifti1.Nifti1Header'>>\n",
      "<bound method Nifti1Header.from_header of <class 'nibabel.nifti1.Nifti1Header'>>\n",
      "<bound method Nifti1Header.from_header of <class 'nibabel.nifti1.Nifti1Header'>>\n",
      "<bound method Nifti1Header.from_header of <class 'nibabel.nifti1.Nifti1Header'>>\n",
      "<bound method Nifti1Header.from_header of <class 'nibabel.nifti1.Nifti1Header'>>\n",
      "<bound method Nifti1Header.from_header of <class 'nibabel.nifti1.Nifti1Header'>>\n",
      "<bound method Nifti1Header.from_header of <class 'nibabel.nifti1.Nifti1Header'>>\n",
      "<bound method Nifti1Header.from_header of <class 'nibabel.nifti1.Nifti1Header'>>\n",
      "<bound method Nifti1Header.from_header of <class 'nibabel.nifti1.Nifti1Header'>>\n",
      "<bound method Nifti1Header.from_header of <class 'nibabel.nifti1.Nifti1Header'>>\n",
      "<bound method Nifti1Header.from_header of <class 'nibabel.nifti1.Nifti1Header'>>\n",
      "<bound method Nifti1Header.from_header of <class 'nibabel.nifti1.Nifti1Header'>>\n",
      "<bound method Nifti1Header.from_header of <class 'nibabel.nifti1.Nifti1Header'>>\n",
      "<bound method Nifti1Header.from_header of <class 'nibabel.nifti1.Nifti1Header'>>\n",
      "<bound method Nifti1Header.from_header of <class 'nibabel.nifti1.Nifti1Header'>>\n",
      "<bound method Nifti1Header.from_header of <class 'nibabel.nifti1.Nifti1Header'>>\n",
      "<bound method Nifti1Header.from_header of <class 'nibabel.nifti1.Nifti1Header'>>\n",
      "<bound method Nifti1Header.from_header of <class 'nibabel.nifti1.Nifti1Header'>>\n",
      "<bound method Nifti1Header.from_header of <class 'nibabel.nifti1.Nifti1Header'>>\n",
      "<bound method Nifti1Header.from_header of <class 'nibabel.nifti1.Nifti1Header'>>\n",
      "<bound method Nifti1Header.from_header of <class 'nibabel.nifti1.Nifti1Header'>>\n",
      "<bound method Nifti1Header.from_header of <class 'nibabel.nifti1.Nifti1Header'>>\n",
      "<bound method Nifti1Header.from_header of <class 'nibabel.nifti1.Nifti1Header'>>\n",
      "<bound method Nifti1Header.from_header of <class 'nibabel.nifti1.Nifti1Header'>>\n",
      "<bound method Nifti1Header.from_header of <class 'nibabel.nifti1.Nifti1Header'>>\n",
      "<bound method Nifti1Header.from_header of <class 'nibabel.nifti1.Nifti1Header'>>\n",
      "<bound method Nifti1Header.from_header of <class 'nibabel.nifti1.Nifti1Header'>>\n",
      "<bound method Nifti1Header.from_header of <class 'nibabel.nifti1.Nifti1Header'>>\n",
      "<bound method Nifti1Header.from_header of <class 'nibabel.nifti1.Nifti1Header'>>\n",
      "<bound method Nifti1Header.from_header of <class 'nibabel.nifti1.Nifti1Header'>>\n",
      "<bound method Nifti1Header.from_header of <class 'nibabel.nifti1.Nifti1Header'>>\n",
      "<bound method Nifti1Header.from_header of <class 'nibabel.nifti1.Nifti1Header'>>\n",
      "<bound method Nifti1Header.from_header of <class 'nibabel.nifti1.Nifti1Header'>>\n",
      "<bound method Nifti1Header.from_header of <class 'nibabel.nifti1.Nifti1Header'>>\n",
      "<bound method Nifti1Header.from_header of <class 'nibabel.nifti1.Nifti1Header'>>\n",
      "<bound method Nifti1Header.from_header of <class 'nibabel.nifti1.Nifti1Header'>>\n",
      "<bound method Nifti1Header.from_header of <class 'nibabel.nifti1.Nifti1Header'>>\n",
      "<bound method Nifti1Header.from_header of <class 'nibabel.nifti1.Nifti1Header'>>\n",
      "<bound method Nifti1Header.from_header of <class 'nibabel.nifti1.Nifti1Header'>>\n",
      "<bound method Nifti1Header.from_header of <class 'nibabel.nifti1.Nifti1Header'>>\n",
      "<bound method Nifti1Header.from_header of <class 'nibabel.nifti1.Nifti1Header'>>\n",
      "<bound method Nifti1Header.from_header of <class 'nibabel.nifti1.Nifti1Header'>>\n",
      "<bound method Nifti1Header.from_header of <class 'nibabel.nifti1.Nifti1Header'>>\n",
      "<bound method Nifti1Header.from_header of <class 'nibabel.nifti1.Nifti1Header'>>\n",
      "<bound method Nifti1Header.from_header of <class 'nibabel.nifti1.Nifti1Header'>>\n",
      "<bound method Nifti1Header.from_header of <class 'nibabel.nifti1.Nifti1Header'>>\n",
      "<bound method Nifti1Header.from_header of <class 'nibabel.nifti1.Nifti1Header'>>\n",
      "<bound method Nifti1Header.from_header of <class 'nibabel.nifti1.Nifti1Header'>>\n",
      "<bound method Nifti1Header.from_header of <class 'nibabel.nifti1.Nifti1Header'>>\n",
      "<bound method Nifti1Header.from_header of <class 'nibabel.nifti1.Nifti1Header'>>\n",
      "<bound method Nifti1Header.from_header of <class 'nibabel.nifti1.Nifti1Header'>>\n",
      "<bound method Nifti1Header.from_header of <class 'nibabel.nifti1.Nifti1Header'>>\n",
      "<bound method Nifti1Header.from_header of <class 'nibabel.nifti1.Nifti1Header'>>\n",
      "<bound method Nifti1Header.from_header of <class 'nibabel.nifti1.Nifti1Header'>>\n",
      "<bound method Nifti1Header.from_header of <class 'nibabel.nifti1.Nifti1Header'>>\n",
      "<bound method Nifti1Header.from_header of <class 'nibabel.nifti1.Nifti1Header'>>\n",
      "<bound method Nifti1Header.from_header of <class 'nibabel.nifti1.Nifti1Header'>>\n",
      "<bound method Nifti1Header.from_header of <class 'nibabel.nifti1.Nifti1Header'>>\n",
      "<bound method Nifti1Header.from_header of <class 'nibabel.nifti1.Nifti1Header'>>\n",
      "<bound method Nifti1Header.from_header of <class 'nibabel.nifti1.Nifti1Header'>>\n",
      "<bound method Nifti1Header.from_header of <class 'nibabel.nifti1.Nifti1Header'>>\n",
      "<bound method Nifti1Header.from_header of <class 'nibabel.nifti1.Nifti1Header'>>\n",
      "<bound method Nifti1Header.from_header of <class 'nibabel.nifti1.Nifti1Header'>>\n",
      "<bound method Nifti1Header.from_header of <class 'nibabel.nifti1.Nifti1Header'>>\n",
      "<bound method Nifti1Header.from_header of <class 'nibabel.nifti1.Nifti1Header'>>\n",
      "<bound method Nifti1Header.from_header of <class 'nibabel.nifti1.Nifti1Header'>>\n",
      "<bound method Nifti1Header.from_header of <class 'nibabel.nifti1.Nifti1Header'>>\n",
      "<bound method Nifti1Header.from_header of <class 'nibabel.nifti1.Nifti1Header'>>\n",
      "<bound method Nifti1Header.from_header of <class 'nibabel.nifti1.Nifti1Header'>>\n",
      "<bound method Nifti1Header.from_header of <class 'nibabel.nifti1.Nifti1Header'>>\n",
      "<bound method Nifti1Header.from_header of <class 'nibabel.nifti1.Nifti1Header'>>\n",
      "<bound method Nifti1Header.from_header of <class 'nibabel.nifti1.Nifti1Header'>>\n",
      "<bound method Nifti1Header.from_header of <class 'nibabel.nifti1.Nifti1Header'>>\n",
      "<bound method Nifti1Header.from_header of <class 'nibabel.nifti1.Nifti1Header'>>\n",
      "<bound method Nifti1Header.from_header of <class 'nibabel.nifti1.Nifti1Header'>>\n",
      "<bound method Nifti1Header.from_header of <class 'nibabel.nifti1.Nifti1Header'>>\n",
      "<bound method Nifti1Header.from_header of <class 'nibabel.nifti1.Nifti1Header'>>\n",
      "<bound method Nifti1Header.from_header of <class 'nibabel.nifti1.Nifti1Header'>>\n",
      "<bound method Nifti1Header.from_header of <class 'nibabel.nifti1.Nifti1Header'>>\n",
      "<bound method Nifti1Header.from_header of <class 'nibabel.nifti1.Nifti1Header'>>\n",
      "<bound method Nifti1Header.from_header of <class 'nibabel.nifti1.Nifti1Header'>>\n",
      "<bound method Nifti1Header.from_header of <class 'nibabel.nifti1.Nifti1Header'>>\n",
      "<bound method Nifti1Header.from_header of <class 'nibabel.nifti1.Nifti1Header'>>\n",
      "<bound method Nifti1Header.from_header of <class 'nibabel.nifti1.Nifti1Header'>>\n",
      "<bound method Nifti1Header.from_header of <class 'nibabel.nifti1.Nifti1Header'>>\n",
      "<bound method Nifti1Header.from_header of <class 'nibabel.nifti1.Nifti1Header'>>\n",
      "<bound method Nifti1Header.from_header of <class 'nibabel.nifti1.Nifti1Header'>>\n",
      "<bound method Nifti1Header.from_header of <class 'nibabel.nifti1.Nifti1Header'>>\n",
      "<bound method Nifti1Header.from_header of <class 'nibabel.nifti1.Nifti1Header'>>\n",
      "<bound method Nifti1Header.from_header of <class 'nibabel.nifti1.Nifti1Header'>>\n",
      "<bound method Nifti1Header.from_header of <class 'nibabel.nifti1.Nifti1Header'>>\n",
      "<bound method Nifti1Header.from_header of <class 'nibabel.nifti1.Nifti1Header'>>\n",
      "<bound method Nifti1Header.from_header of <class 'nibabel.nifti1.Nifti1Header'>>\n",
      "<bound method Nifti1Header.from_header of <class 'nibabel.nifti1.Nifti1Header'>>\n",
      "<bound method Nifti1Header.from_header of <class 'nibabel.nifti1.Nifti1Header'>>\n",
      "<bound method Nifti1Header.from_header of <class 'nibabel.nifti1.Nifti1Header'>>\n",
      "<bound method Nifti1Header.from_header of <class 'nibabel.nifti1.Nifti1Header'>>\n",
      "<bound method Nifti1Header.from_header of <class 'nibabel.nifti1.Nifti1Header'>>\n",
      "<bound method Nifti1Header.from_header of <class 'nibabel.nifti1.Nifti1Header'>>\n",
      "<bound method Nifti1Header.from_header of <class 'nibabel.nifti1.Nifti1Header'>>\n",
      "<bound method Nifti1Header.from_header of <class 'nibabel.nifti1.Nifti1Header'>>\n",
      "<bound method Nifti1Header.from_header of <class 'nibabel.nifti1.Nifti1Header'>>\n",
      "<bound method Nifti1Header.from_header of <class 'nibabel.nifti1.Nifti1Header'>>\n",
      "<bound method Nifti1Header.from_header of <class 'nibabel.nifti1.Nifti1Header'>>\n",
      "<bound method Nifti1Header.from_header of <class 'nibabel.nifti1.Nifti1Header'>>\n",
      "<bound method Nifti1Header.from_header of <class 'nibabel.nifti1.Nifti1Header'>>\n",
      "<bound method Nifti1Header.from_header of <class 'nibabel.nifti1.Nifti1Header'>>\n",
      "<bound method Nifti1Header.from_header of <class 'nibabel.nifti1.Nifti1Header'>>\n",
      "<bound method Nifti1Header.from_header of <class 'nibabel.nifti1.Nifti1Header'>>\n",
      "<bound method Nifti1Header.from_header of <class 'nibabel.nifti1.Nifti1Header'>>\n",
      "<bound method Nifti1Header.from_header of <class 'nibabel.nifti1.Nifti1Header'>>\n",
      "<bound method Nifti1Header.from_header of <class 'nibabel.nifti1.Nifti1Header'>>\n",
      "<bound method Nifti1Header.from_header of <class 'nibabel.nifti1.Nifti1Header'>>\n",
      "<bound method Nifti1Header.from_header of <class 'nibabel.nifti1.Nifti1Header'>>\n",
      "<bound method Nifti1Header.from_header of <class 'nibabel.nifti1.Nifti1Header'>>\n",
      "<bound method Nifti1Header.from_header of <class 'nibabel.nifti1.Nifti1Header'>>\n",
      "<bound method Nifti1Header.from_header of <class 'nibabel.nifti1.Nifti1Header'>>\n",
      "<bound method Nifti1Header.from_header of <class 'nibabel.nifti1.Nifti1Header'>>\n",
      "<bound method Nifti1Header.from_header of <class 'nibabel.nifti1.Nifti1Header'>>\n",
      "<bound method Nifti1Header.from_header of <class 'nibabel.nifti1.Nifti1Header'>>\n",
      "<bound method Nifti1Header.from_header of <class 'nibabel.nifti1.Nifti1Header'>>\n",
      "<bound method Nifti1Header.from_header of <class 'nibabel.nifti1.Nifti1Header'>>\n",
      "<bound method Nifti1Header.from_header of <class 'nibabel.nifti1.Nifti1Header'>>\n",
      "<bound method Nifti1Header.from_header of <class 'nibabel.nifti1.Nifti1Header'>>\n",
      "<bound method Nifti1Header.from_header of <class 'nibabel.nifti1.Nifti1Header'>>\n",
      "<bound method Nifti1Header.from_header of <class 'nibabel.nifti1.Nifti1Header'>>\n",
      "<bound method Nifti1Header.from_header of <class 'nibabel.nifti1.Nifti1Header'>>\n",
      "<bound method Nifti1Header.from_header of <class 'nibabel.nifti1.Nifti1Header'>>\n",
      "<bound method Nifti1Header.from_header of <class 'nibabel.nifti1.Nifti1Header'>>\n",
      "<bound method Nifti1Header.from_header of <class 'nibabel.nifti1.Nifti1Header'>>\n",
      "<bound method Nifti1Header.from_header of <class 'nibabel.nifti1.Nifti1Header'>>\n",
      "<bound method Nifti1Header.from_header of <class 'nibabel.nifti1.Nifti1Header'>>\n",
      "<bound method Nifti1Header.from_header of <class 'nibabel.nifti1.Nifti1Header'>>\n",
      "<bound method Nifti1Header.from_header of <class 'nibabel.nifti1.Nifti1Header'>>\n",
      "<bound method Nifti1Header.from_header of <class 'nibabel.nifti1.Nifti1Header'>>\n",
      "<bound method Nifti1Header.from_header of <class 'nibabel.nifti1.Nifti1Header'>>\n",
      "<bound method Nifti1Header.from_header of <class 'nibabel.nifti1.Nifti1Header'>>\n",
      "<bound method Nifti1Header.from_header of <class 'nibabel.nifti1.Nifti1Header'>>\n",
      "<bound method Nifti1Header.from_header of <class 'nibabel.nifti1.Nifti1Header'>>\n",
      "<bound method Nifti1Header.from_header of <class 'nibabel.nifti1.Nifti1Header'>>\n",
      "<bound method Nifti1Header.from_header of <class 'nibabel.nifti1.Nifti1Header'>>\n",
      "<bound method Nifti1Header.from_header of <class 'nibabel.nifti1.Nifti1Header'>>\n",
      "<bound method Nifti1Header.from_header of <class 'nibabel.nifti1.Nifti1Header'>>\n",
      "<bound method Nifti1Header.from_header of <class 'nibabel.nifti1.Nifti1Header'>>\n",
      "<bound method Nifti1Header.from_header of <class 'nibabel.nifti1.Nifti1Header'>>\n",
      "<bound method Nifti1Header.from_header of <class 'nibabel.nifti1.Nifti1Header'>>\n",
      "<bound method Nifti1Header.from_header of <class 'nibabel.nifti1.Nifti1Header'>>\n",
      "<bound method Nifti1Header.from_header of <class 'nibabel.nifti1.Nifti1Header'>>\n",
      "<bound method Nifti1Header.from_header of <class 'nibabel.nifti1.Nifti1Header'>>\n",
      "<bound method Nifti1Header.from_header of <class 'nibabel.nifti1.Nifti1Header'>>\n",
      "<bound method Nifti1Header.from_header of <class 'nibabel.nifti1.Nifti1Header'>>\n",
      "<bound method Nifti1Header.from_header of <class 'nibabel.nifti1.Nifti1Header'>>\n",
      "<bound method Nifti1Header.from_header of <class 'nibabel.nifti1.Nifti1Header'>>\n",
      "<bound method Nifti1Header.from_header of <class 'nibabel.nifti1.Nifti1Header'>>\n",
      "<bound method Nifti1Header.from_header of <class 'nibabel.nifti1.Nifti1Header'>>\n",
      "<bound method Nifti1Header.from_header of <class 'nibabel.nifti1.Nifti1Header'>>\n",
      "<bound method Nifti1Header.from_header of <class 'nibabel.nifti1.Nifti1Header'>>\n",
      "<bound method Nifti1Header.from_header of <class 'nibabel.nifti1.Nifti1Header'>>\n",
      "<bound method Nifti1Header.from_header of <class 'nibabel.nifti1.Nifti1Header'>>\n",
      "<bound method Nifti1Header.from_header of <class 'nibabel.nifti1.Nifti1Header'>>\n",
      "<bound method Nifti1Header.from_header of <class 'nibabel.nifti1.Nifti1Header'>>\n",
      "<bound method Nifti1Header.from_header of <class 'nibabel.nifti1.Nifti1Header'>>\n",
      "<bound method Nifti1Header.from_header of <class 'nibabel.nifti1.Nifti1Header'>>\n",
      "<bound method Nifti1Header.from_header of <class 'nibabel.nifti1.Nifti1Header'>>\n",
      "<bound method Nifti1Header.from_header of <class 'nibabel.nifti1.Nifti1Header'>>\n"
     ]
    }
   ],
   "source": [
    "# Nibabel supports many imaging formats, NIFTI being just one of them. I told you that our images \n",
    "# are in NIFTI, but you should confirm if this is indeed the format that we are dealing with\n",
    "# TASK: using .header_class attribute - what is the format of our images?\n",
    "for i in range(len(image_loc_tuple[0])):\n",
    "    print(image_loc_tuple[0][i][1].header_class.from_header)"
   ]
  },
  {
   "cell_type": "markdown",
   "metadata": {},
   "source": [
    "* Visual examiniation of the header_class indicates that all the files are NIFTI1 file format"
   ]
  },
  {
   "cell_type": "code",
   "execution_count": null,
   "metadata": {},
   "outputs": [],
   "source": []
  },
  {
   "cell_type": "markdown",
   "metadata": {},
   "source": [
    "Further down we will be inspecting .header attribute that provides access to NIFTI metadata. You can use this resource as a reference for various fields: https://brainder.org/2012/09/23/the-nifti-file-format/"
   ]
  },
  {
   "cell_type": "code",
   "execution_count": 354,
   "metadata": {},
   "outputs": [
    {
     "data": {
      "text/plain": [
       "dtype('<f4')"
      ]
     },
     "execution_count": 354,
     "metadata": {},
     "output_type": "execute_result"
    }
   ],
   "source": [
    "# TASK: How many bits per pixel are used?\n",
    "image_loc_tuple[0][1][1].get_data_dtype()"
   ]
  },
  {
   "cell_type": "markdown",
   "metadata": {},
   "source": [
    "* Indicate that images are little-endian single-precision float (32 bits)"
   ]
  },
  {
   "cell_type": "code",
   "execution_count": 355,
   "metadata": {},
   "outputs": [
    {
     "data": {
      "text/plain": [
       "('mm', 'sec')"
      ]
     },
     "execution_count": 355,
     "metadata": {},
     "output_type": "execute_result"
    }
   ],
   "source": [
    "# TASK: What are the units of measurement?\n",
    "image_loc_tuple[0][1][1].header.get_xyzt_units()"
   ]
  },
  {
   "cell_type": "markdown",
   "metadata": {},
   "source": [
    "* Indicate that unit of measurement is mm"
   ]
  },
  {
   "cell_type": "markdown",
   "metadata": {},
   "source": [
    "### TASK: Do we have a regular grid? What are grid spacings?\n",
    "* Based on the reference below the pixel (voxel ) dimension are stored in the field below\n",
    "* https://nifti.nimh.nih.gov/pub/dist/src/niftilib/nifti1.h \n",
    "* float pixdim[8];     /*!< Grid spacings.        */  /* float pixdim[8];     */\n",
    "* In NIFTI-1 files, dimensions 1,2,3 are for space, dimension 4 is for time\n"
   ]
  },
  {
   "cell_type": "code",
   "execution_count": 375,
   "metadata": {},
   "outputs": [
    {
     "name": "stdout",
     "output_type": "stream",
     "text": [
      "[1. 1. 1. 1. 1. 0. 0. 0.]\n"
     ]
    }
   ],
   "source": [
    "print(image_loc_tuple[0][1][1].header['pixdim'])"
   ]
  },
  {
   "cell_type": "markdown",
   "metadata": {},
   "source": [
    "*  the pixdim indicates that (x,y,z) are eually spaced of 1mm apart\n",
    "*  pixdim          : [1. 1. 1. 1. 1. 0. 0. 0.]"
   ]
  },
  {
   "cell_type": "code",
   "execution_count": 373,
   "metadata": {},
   "outputs": [
    {
     "data": {
      "image/png": "[encoded data removed]",
      "text/plain": [
       "<Figure size 360x360 with 3 Axes>"
      ]
     },
     "metadata": {
      "needs_background": "light"
     },
     "output_type": "display_data"
    }
   ],
   "source": [
    "# TASK: What dimensions represent axial, sagittal, and coronal slices? How do you know?\n",
    "def show_slices(slices):\n",
    "    # based on our investigation of voxel spacing\n",
    "    # pixdim is uniform across axial,sagittal and coronal \n",
    "    # hence aspect ratio need not be changed\n",
    "    fig, axes = plt.subplots(1, len(slices))\n",
    "    for i, slice in enumerate(slices):\n",
    "        axes[i].imshow(slice.T, cmap=\"gray\", origin=\"lower\")\n",
    "    return\n",
    "\n",
    "# let's look at some axial / saggital and coronal slices\n",
    "# our image is of dim (35, 52, 34)\n",
    "# central slice\n",
    "slice_1 = image[17,:,:]\n",
    "slice_2 = image[:,26,:]\n",
    "slice_3 = image[:,:,17]\n",
    "show_slices([slice_1,slice_2,slice_3])"
   ]
  },
  {
   "cell_type": "code",
   "execution_count": 377,
   "metadata": {},
   "outputs": [
    {
     "data": {
      "text/plain": [
       "array([ 3, 34, 52, 35,  1,  1,  1,  1], dtype=int16)"
      ]
     },
     "execution_count": 377,
     "metadata": {},
     "output_type": "execute_result"
    }
   ],
   "source": [
    "image_loc_tuple[0][1][1].header['dim']"
   ]
  },
  {
   "cell_type": "code",
   "execution_count": 379,
   "metadata": {},
   "outputs": [
    {
     "name": "stdout",
     "output_type": "stream",
     "text": [
      "1\n"
     ]
    }
   ],
   "source": [
    " print(image_loc_tuple[0][1][1].header['sform_code'])"
   ]
  },
  {
   "cell_type": "markdown",
   "metadata": {},
   "source": [
    "* ref https://nipy.org/nibabel/nifti_images.html#choosing-image-affine\n",
    "* sform_code == 1 indicates scanner coordinate system\n",
    "* 0   unknown   sform not defined\n",
    "* 1   scanner   RAS+ in scanner coordinates\n",
    "* 2   aligned  RAS+ aligned to some other scan"
   ]
  },
  {
   "cell_type": "code",
   "execution_count": 380,
   "metadata": {},
   "outputs": [
    {
     "data": {
      "text/plain": [
       "array([[1., 0., 0., 1.],\n",
       "       [0., 1., 0., 1.],\n",
       "       [0., 0., 1., 1.],\n",
       "       [0., 0., 0., 1.]])"
      ]
     },
     "execution_count": 380,
     "metadata": {},
     "output_type": "execute_result"
    }
   ],
   "source": [
    "image_loc_tuple[0][1][1].affine"
   ]
  },
  {
   "cell_type": "markdown",
   "metadata": {},
   "source": [
    "* The affine matrix is identity matrix with only +ve tranlation hence we can examine\n",
    "* the co-ordiates directly to determine the saggital, coronal and axial planes"
   ]
  },
  {
   "cell_type": "code",
   "execution_count": 381,
   "metadata": {},
   "outputs": [
    {
     "data": {
      "text/plain": [
       "array([ 3, 34, 52, 35,  1,  1,  1,  1], dtype=int16)"
      ]
     },
     "execution_count": 381,
     "metadata": {},
     "output_type": "execute_result"
    }
   ],
   "source": [
    "image_loc_tuple[0][1][1].header['dim']"
   ]
  },
  {
   "cell_type": "markdown",
   "metadata": {},
   "source": [
    "## no transformation required \n",
    "* x axis cut slices  -> saggital (34)\n",
    "* y axis cut slices  -> coronal  (52)\n",
    "* z axus cut slices  -> axia     (35)"
   ]
  },
  {
   "cell_type": "code",
   "execution_count": null,
   "metadata": {},
   "outputs": [],
   "source": []
  },
  {
   "cell_type": "code",
   "execution_count": null,
   "metadata": {},
   "outputs": [],
   "source": []
  },
  {
   "cell_type": "code",
   "execution_count": 382,
   "metadata": {},
   "outputs": [],
   "source": [
    "# By now you should have enough information to decide what are dimensions of a single voxel\n",
    "# TASK: Compute the volume (in mm³) of a hippocampus using one of the labels you've loaded. \n",
    "# You should get a number between ~2200 and ~4500"
   ]
  },
  {
   "cell_type": "code",
   "execution_count": 386,
   "metadata": {},
   "outputs": [
    {
     "name": "stdout",
     "output_type": "stream",
     "text": [
      "Volume of hippocampus is 6212.0 mm\n"
     ]
    }
   ],
   "source": [
    "# Each axis is equally spaced (x,x,z) == (1,1,1) in mm\n",
    "# calculate the sum of the mask and this should be volume in mm3\n",
    "print(f\"Volume of hippocampus is {np.sum(label)} mm\")"
   ]
  },
  {
   "cell_type": "markdown",
   "metadata": {},
   "source": [
    "## Plotting some charts"
   ]
  },
  {
   "cell_type": "code",
   "execution_count": null,
   "metadata": {},
   "outputs": [],
   "source": [
    "# TASK: Plot a histogram of all volumes that we have in our dataset and see how \n",
    "# our dataset measures against a slice of a normal population represented by the chart below."
   ]
  },
  {
   "cell_type": "markdown",
   "metadata": {},
   "source": [
    "<img src=\"img/nomogram_fem_right.svg\" width=400 align=left>"
   ]
  },
  {
   "cell_type": "markdown",
   "metadata": {},
   "source": [
    "Do you see any outliers? Why do you think it's so (might be not immediately obvious, but it's always a good idea to inspect) outliers closer. If you haven't found the images that do not belong, the histogram may help you."
   ]
  },
  {
   "cell_type": "markdown",
   "metadata": {},
   "source": [
    "In the real world we would have precise information about the ages and conditions of our patients, and understanding how our dataset measures against population norm would be the integral part of clinical validation that we talked about in last lesson. Unfortunately, we do not have this information about this dataset, so we can only guess why it measures the way it is. If you would like to explore further, you can use the [calculator from HippoFit project](http://www.smanohar.com/biobank/calculator.html) to see how our dataset compares against different population slices"
   ]
  },
  {
   "cell_type": "markdown",
   "metadata": {},
   "source": [
    "Did you notice anything odd about the label files? We hope you did! The mask seems to have two classes, labeled with values `1` and `2` respectively. If you visualized sagittal or axial views, you might have gotten a good guess of what those are. Class 1 is the anterior segment of the hippocampus and class 2 is the posterior one. \n",
    "\n",
    "For the purpose of volume calculation we do not care about the distinction, however we will still train our network to differentiate between these two classes and the background"
   ]
  },
  {
   "cell_type": "code",
   "execution_count": 318,
   "metadata": {},
   "outputs": [],
   "source": [
    "# TASK: Copy the clean dataset to the output folder inside section1/out. You will use it in the next Section\n",
    "# copy curated images into new dir\n",
    "old_dir_for_img = 'C:/Mali/Hobby/Udacity/nd320-c3-3d-imaging-starter-master/data/TrainingSet/images/'\n",
    "new_dir_for_img = r'out/images'\n",
    "for f in range(len(image_loc_tuple[0])):\n",
    "    cpfile_to_new_loc(old_dir_for_img,new_dir_for_img,image_loc_tuple[0][f][0])\n",
    "    "
   ]
  },
  {
   "cell_type": "code",
   "execution_count": 319,
   "metadata": {},
   "outputs": [],
   "source": [
    "# copy curated labels into new dir\n",
    "old_dir_for_img = 'C:/Mali/Hobby/Udacity/nd320-c3-3d-imaging-starter-master/data/TrainingSet/labels'\n",
    "new_dir_for_img = r'out/labels'\n",
    "for f in range(len(label_loc_tuple[0])):\n",
    "    cpfile_to_new_loc(old_dir_for_img,new_dir_for_img,label_loc_tuple[0][f][0])"
   ]
  },
  {
   "cell_type": "code",
   "execution_count": null,
   "metadata": {},
   "outputs": [],
   "source": []
  },
  {
   "cell_type": "markdown",
   "metadata": {},
   "source": [
    "## Final remarks\n",
    "\n",
    "Congratulations! You have finished Section 1. \n",
    "\n",
    "In this section you have inspected a dataset of MRI scans and related segmentations, represented as NIFTI files. We have visualized some slices, and understood the layout of the data. We have inspected file headers to understand what how the image dimensions relate to the physical world and we have understood how to measure our volume. We have then inspected dataset for outliers, and have created a clean set that is ready for consumption by our ML algorithm. \n",
    "\n",
    "In the next section you will create training and testing pipelines for a UNet-based machine learning model, run and monitor the execution, and will produce test metrics. This will arm you with all you need to use the model in the clinical context and reason about its performance!"
   ]
  }
 ],
 "metadata": {
  "kernelspec": {
   "display_name": "Python 3",
   "language": "python",
   "name": "python3"
  }
 },
 "nbformat": 4,
 "nbformat_minor": 2
}
